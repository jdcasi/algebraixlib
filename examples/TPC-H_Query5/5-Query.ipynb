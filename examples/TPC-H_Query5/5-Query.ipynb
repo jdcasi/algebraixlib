{
 "cells": [
  {
   "cell_type": "markdown",
   "metadata": {},
   "source": [
    "# TPC-H Query 5 &ndash; The Full Query\n",
    "\n",
    "This IPython notebook is part of a series of tutorials that introduce how data algebra facilitates querying data from multiple sources and in different structures, on the example of a modified [TPC-H][] query. \n",
    "\n",
    "The tutorials assume basic familiarity with our library; we suggest working through our [Hello_World][] tutorial first. They also assume basic knowledge of relational data, RDF and XML. \n",
    "\n",
    "This tutorial assumes knowledge of concepts introduced in earlier parts, so it is best to work through them in the listed sequence:\n",
    "\n",
    "- [1-Introduction][]: Introduces this series of tutorials, TPC-H, the TPC-H query 5 and our modifications to it.\n",
    "- [2-Tables][]: Introduces our representation of tabular data, on the example of CSV.\n",
    "- [3-Graphs][]: Introduces our representation of RDF-style tabular graph data, on the example of Turtle.\n",
    "- [4-Hierarchies][]: Introduces our representation of hierarchical data, on the example of XML.\n",
    "- **[5-Query][] (this tutorial)**: Brings it all together and explains the whole query.\n",
    "\n",
    "[TPC-H]: <http://www.tpc.org/tpch/> (TPC-H Benchmark Main Page)\n",
    "[Hello_World]: <../Hello_World.ipynb> (IPython Notebook: Hello World)\n",
    "[1-Introduction]: <1-Introduction.ipynb> (IPython Notebook: TPC-H Query 5 - Introduction)\n",
    "[2-Tables]: <2-Tables.ipynb> (IPython Notebook: TPC-H Query 5 - Tables)\n",
    "[3-Graphs]: <3-Graphs.ipynb> (IPython Notebook: TPC-H Query 5 - Graphs)\n",
    "[4-Hierarchies]: <4-Hierarchies.ipynb> (IPython Notebook: TPC-H Query 5 - Hierarchies)\n",
    "[5-Query]: <5-Query.ipynb> (IPython Notebook: TPC-H Query 5 - Query)"
   ]
  },
  {
   "cell_type": "markdown",
   "metadata": {
    "collapsed": true
   },
   "source": [
    "To refresh your memory, here's the full version of the modified query 5 from [1-Introduction - Our Modifications][]:\n",
    "\n",
    "``` sql\n",
    "SELECT\n",
    "    nationname, \n",
    "    SUM(lineitem.extendedprice * (1 - lineitem.discount)) AS revenue\n",
    "FROM (\n",
    "    SELECT \n",
    "        custkey, orderkey, suppkey, nationkey, nationname\n",
    "    FROM (\n",
    "        SELECT \n",
    "            custkey, suppkey, nationkey, nationname\n",
    "        FROM (\n",
    "            -- This is an SQL subquery. It extracts the customers in the selected \n",
    "            -- nations (which come from an XML pseudo-subquery) and returns the\n",
    "            -- customer key 'custkey', nation key 'nationkey' and nation name \n",
    "            -- 'nationname'.\n",
    "            SELECT \n",
    "                custkey, nationkey, nationname\n",
    "            FROM \n",
    "                customer\n",
    "            JOIN (\n",
    "                -- This is a pseudo-subquery in XQuery. It extracts a list of nations\n",
    "                -- for the desired region, and for every nation it returns an XML 'row' \n",
    "                -- with the columns 'nationkey' and 'nationname' (renamed from 'name').\n",
    "                -- This forms an XML pseudo-'table' named 'nations' that is then joined \n",
    "                -- with 'customer'.\n",
    "                for $x in doc(\"regions.xml\")/regions/region[name=\"MIDDLE EAST\"]/nation\n",
    "                    return <nation>{$x/nationkey}<nationname>{data($x/name)}</nationname></nation>\n",
    "            ) AS nations\n",
    "            ON\n",
    "                customer.nationkey = nations.nationkey\n",
    "        ) AS customers_nations_projected\n",
    "        JOIN (\n",
    "            -- This is a pseudo-subquery in SPARQL. It extracts a table with the\n",
    "            -- columns 'suppkey' and 'nationkey' from the RDF graph 'supplier'\n",
    "            -- and injects them into the outer query as table 'supplier'.\n",
    "            SELECT \n",
    "                ?suppkey, ?nationkey\n",
    "            FROM \n",
    "                supplier\n",
    "            WHERE {\n",
    "                ?supplier <tpch:suppkey> ?suppkey .\n",
    "                ?supplier <tpch:nationkey> ?nationkey .\n",
    "            }\n",
    "        ) AS supplier_solutions\n",
    "        ON \n",
    "            supplier_solutions.nationkey = customers_joined_projected.nationkey\n",
    "    ) AS result1\n",
    "    JOIN (\n",
    "        -- This is an SQL subquery. It filters the table 'orders' by the desired \n",
    "        -- date range and projects the columns 'orderkey' and 'custkey'.\n",
    "        SELECT \n",
    "            orderkey, custkey\n",
    "        FROM \n",
    "            orders\n",
    "        WHERE \n",
    "            startdate <= orders.orderdate and orders.orderdate < enddate \n",
    "    ) AS orders_restricted_projected\n",
    "    ON \n",
    "        result1.custkey = orders_restricted_projected.custkey\n",
    ") AS result2\n",
    "JOIN \n",
    "    lineitem\n",
    "ON \n",
    "    lineitem.orderkey = result2.orderkey AND lineitem.suppkey = result2.suppkey\n",
    "GROUP BY \n",
    "    nationname\n",
    "```\n",
    "\n",
    "The subqueries (and pseudo-subqueries) of it have been introduced in the previous notebooks of this series. In this notebook we bring it all together and run the full query.\n",
    "\n",
    "[1-Introduction - Our Modifications]: <1-Introduction.ipynb#Our-Modifications> (IPython Notebook: TPC-H Query 5 - Introduction - Our Modifications)"
   ]
  },
  {
   "cell_type": "markdown",
   "metadata": {},
   "source": [
    "# The Subqueries\n",
    "\n",
    "## SQL Subqueries\n",
    "\n",
    "The code from [2-Tables][] is collected in the following two functions that each returns a clan. Note how the `nations` table (for which we used an arbitrary clan in [2-Tables][]) has become an argument of the function `get_customers_nations_projected()`. Similarly, `startdate` and `enddate` (they are used in the restriction on the `orders` table) have become an argument of the function `get_orders_restricted_projected()`.\n",
    "\n",
    "[2-Tables]: <2-Tables.ipynb> (IPython Notebook: TPC-H Query 5 - Tables)"
   ]
  },
  {
   "cell_type": "code",
   "execution_count": 1,
   "metadata": {
    "collapsed": true
   },
   "outputs": [],
   "source": [
    "from datetime import datetime\n",
    "import algebraixlib.algebras.clans as clans\n",
    "import algebraixlib.algebras.sets as sets\n",
    "import algebraixlib.io.csv as csv\n",
    "\n",
    "def get_customers_nations_projected(nations):\n",
    "    customer_types = {'custkey': int, 'nationkey': int, 'acctbal': float}\n",
    "    customers = csv.import_csv('customer.csv', customer_types)\n",
    "    \n",
    "    customers_nations = clans.functional_cross_union(customers, nations)\n",
    "    customers_nations_projected = clans.project(customers_nations,\n",
    "        'custkey', 'nationkey', 'nationname')\n",
    "    return customers_nations_projected\n",
    "\n",
    "def get_orders_restricted_projected(startdate, enddate):\n",
    "    def read_date(date_str: str) -> datetime:\n",
    "        return datetime.strptime(date_str, '%Y-%m-%d').date()\n",
    "    orders_types = {\n",
    "        'orderkey': int, 'custkey': int, 'orderdate': read_date,\n",
    "        'totalprice': float, 'shippriority': int\n",
    "    }\n",
    "    orders = csv.import_csv('orders.csv', orders_types)\n",
    "    \n",
    "    def select_dates(rel) -> bool:\n",
    "        orderdate = rel('orderdate').value\n",
    "        return (startdate <= orderdate) and (orderdate < enddate)\n",
    "    orders_restricted = sets.restrict(orders, select_dates)\n",
    "    orders_restricted_projected = clans.project(orders_restricted, 'orderkey', 'custkey')\n",
    "    return orders_restricted_projected"
   ]
  },
  {
   "cell_type": "markdown",
   "metadata": {},
   "source": [
    "## SPARQL Subquery\n",
    "\n",
    "The code from [3-Graphs][] is in the function `get_supplier_solutions()`; it represents the SPARQL pseudo-subquery that provides the supplier data.\n",
    "\n",
    "[3-Graphs]: <3-Graphs.ipynb> (IPython Notebook: TPC-H Query 5 - Graphs)"
   ]
  },
  {
   "cell_type": "code",
   "execution_count": 2,
   "metadata": {
    "collapsed": true
   },
   "outputs": [],
   "source": [
    "import rdflib\n",
    "import algebraixlib.io.rdf as rdf\n",
    "\n",
    "def get_supplier_solutions():\n",
    "    suppliers = rdf.import_graph('supplier.ttl')\n",
    "    bgp_suppkey = clans.compose(\n",
    "        clans.superstrict(suppliers, clans.from_dict({'p': rdflib.URIRef('tpch:suppkey')})), \n",
    "        clans.from_dict({'supplier': 's', 'suppkey': 'o'}))\n",
    "    bgp_nationkey = clans.compose(\n",
    "        clans.superstrict(suppliers, clans.from_dict({'p': rdflib.URIRef('tpch:nationkey')})),\n",
    "        clans.from_dict({'supplier': 's', 'nationkey': 'o'}))\n",
    "    supplier_solutions = clans.project(\n",
    "        clans.functional_cross_union(bgp_suppkey, bgp_nationkey), 'nationkey', 'suppkey')\n",
    "    return supplier_solutions"
   ]
  },
  {
   "cell_type": "markdown",
   "metadata": {},
   "source": [
    "## XQuery Subquery\n",
    "\n",
    "The code from [4-Hierarchies][] is in `get_nations()`. It returns a clan that associates `nationkey` and `nationname` for the nations in the region with the name `regionname`.\n",
    "\n",
    "[4-Hierarchies]: <4-Hierarchies.ipynb> (IPython Notebook: TPC-H Query 5 - Hierarchies)"
   ]
  },
  {
   "cell_type": "code",
   "execution_count": 3,
   "metadata": {
    "collapsed": true
   },
   "outputs": [],
   "source": [
    "import algebraixlib.io.xml as xml\n",
    "\n",
    "def get_nations(regionname):\n",
    "    regions = xml.import_xml('regions.xml', convert_numerics=True)\n",
    "    target_region = clans.superstrict(\n",
    "        regions('regions')['region'], \n",
    "        clans.from_dict({'name': regionname}))\n",
    "    nations = clans.compose(\n",
    "        target_region['nation'], \n",
    "        clans.from_dict({'nationkey': 'nationkey', 'nationname': 'name'}))\n",
    "    return nations"
   ]
  },
  {
   "cell_type": "markdown",
   "metadata": {},
   "source": [
    "# Joining the Tables and Subquery Results\n",
    "\n",
    "We work from the inside out here. The first join that doesn't have an embedded join is this one:\n",
    "\n",
    "``` sql\n",
    "(\n",
    "    -- This is an SQL subquery. It extracts the customers in the selected \n",
    "    -- nations (which come from an XML pseudo-subquery) and returns the\n",
    "    -- customer key 'custkey', nation key 'nationkey' and nation name \n",
    "    -- 'nationname'.\n",
    "    SELECT \n",
    "        custkey, nationkey, nationname\n",
    "    FROM \n",
    "        customer\n",
    "    JOIN (\n",
    "        -- This is a pseudo-subquery in XQuery. It extracts a list of nations\n",
    "        -- for the desired region, and for every nation it returns an XML 'row' \n",
    "        -- with the columns 'nationkey' and 'nationname' (renamed from 'name').\n",
    "        -- This forms an XML pseudo-'table' named 'nations' that is then joined \n",
    "        -- with 'customer'.\n",
    "        for $x in doc(\"regions.xml\")/regions/region[name=\"MIDDLE EAST\"]/nation\n",
    "            return <nation>{$x/nationkey}<nationname>{data($x/name)}</nationname></nation>\n",
    "    ) AS nations\n",
    "    ON\n",
    "        customer.nationkey = nations.nationkey\n",
    ") AS customers_nations_projected\n",
    "```\n",
    "\n",
    "This (inner) join has already been introduced in [2-Tables - The customer Table][] and is implemented by the function `get_customers_nations_projected()`. The only change required here is that the `nations` table, which was hardcoded in the example, is now provided by the XQuery statement that is implemented in `get_nations()`.\n",
    "\n",
    "[2-Tables - The customer Table]: <2-Tables.ipynb#The-customer-Table> (IPython Notebook: TPC-H Query 5 - Tables)"
   ]
  },
  {
   "cell_type": "code",
   "execution_count": 4,
   "metadata": {
    "collapsed": false
   },
   "outputs": [
    {
     "data": {
      "text/latex": [
       "$$customers\\_nations\\_projected = \\left\\{\\begin{array}{l}\\left\\{\\color{red}{\\mbox{'custkey'}}{\\mapsto}{\\color{blue}{\\mbox{100}}},\\ \\color{red}{\\mbox{'nationkey'}}{\\mapsto}{\\color{blue}{\\mbox{20}}},\\ \\color{red}{\\mbox{'nationname'}}{\\mapsto}{\\color{blue}{\\mbox{'SAUDI ARA...}}}\\right\\},\\\\\n",
       "\\left\\{\\color{red}{\\mbox{'custkey'}}{\\mapsto}{\\color{blue}{\\mbox{104}}},\\ \\color{red}{\\mbox{'nationkey'}}{\\mapsto}{\\color{blue}{\\mbox{10}}},\\ \\color{red}{\\mbox{'nationname'}}{\\mapsto}{\\color{blue}{\\mbox{'IRAN'}}}\\right\\},\\\\\n",
       "\\left\\{\\color{red}{\\mbox{'custkey'}}{\\mapsto}{\\color{blue}{\\mbox{105}}},\\ \\color{red}{\\mbox{'nationkey'}}{\\mapsto}{\\color{blue}{\\mbox{10}}},\\ \\color{red}{\\mbox{'nationname'}}{\\mapsto}{\\color{blue}{\\mbox{'IRAN'}}}\\right\\},\\\\\n",
       "\\left\\{\\color{red}{\\mbox{'custkey'}}{\\mapsto}{\\color{blue}{\\mbox{110}}},\\ \\color{red}{\\mbox{'nationkey'}}{\\mapsto}{\\color{blue}{\\mbox{10}}},\\ \\color{red}{\\mbox{'nationname'}}{\\mapsto}{\\color{blue}{\\mbox{'IRAN'}}}\\right\\},\\\\\n",
       "\\text{...}(23)\\end{array}\\right\\}$$"
      ],
      "text/plain": [
       "<IPython.core.display.Math object>"
      ]
     },
     "metadata": {},
     "output_type": "display_data"
    }
   ],
   "source": [
    "from algebraixlib.util.latexprinter import iprint_latex\n",
    "\n",
    "customers_nations_projected = get_customers_nations_projected(get_nations('MIDDLE EAST'))\n",
    "iprint_latex('customers_nations_projected', short=True)"
   ]
  },
  {
   "cell_type": "markdown",
   "metadata": {},
   "source": [
    "The next join is this one:\n",
    "\n",
    "``` sql\n",
    "(\n",
    "    SELECT \n",
    "        custkey, suppkey, nationkey, nationname\n",
    "    FROM (...) AS customers_nations_projected\n",
    "    JOIN (...) AS supplier_solutions\n",
    "    ON \n",
    "        supplier_solutions.nationkey = customers_joined_projected.nationkey\n",
    ") AS result1\n",
    "```\n",
    "\n",
    "(The subqueries provided by already discussed functions are replaced by ellipses ('...').)\n",
    "\n",
    "Such an inner join is implemented as functional cross-union by the function [`clans.functional_cross_union`][] ($\\blacktriangledown$, see [2-Tables - The customer Table][]). With this, this join becomes:\n",
    "\n",
    "[2-Tables - The customer Table]: <2-Tables.ipynb#The-customer-Table> (IPython Notebook: TPC-H Query 5 - Tables)"
   ]
  },
  {
   "cell_type": "code",
   "execution_count": 5,
   "metadata": {
    "collapsed": false
   },
   "outputs": [
    {
     "data": {
      "text/latex": [
       "$$result1 = \\left\\{\\begin{array}{l}\\left\\{\\color{red}{\\mbox{'custkey'}}{\\mapsto}{\\color{blue}{\\mbox{104}}},\\ \\color{red}{\\mbox{'nationkey'}}{\\mapsto}{\\color{blue}{\\mbox{10}}},\\ \\color{red}{\\mbox{'nationname'}}{\\mapsto}{\\color{blue}{\\mbox{'IRAN'}}},\\ \\color{red}{\\mbox{'suppkey'}}{\\mapsto}{\\color{blue}{\\mbox{9}}}\\right\\},\\\\\n",
       "\\left\\{\\color{red}{\\mbox{'custkey'}}{\\mapsto}{\\color{blue}{\\mbox{105}}},\\ \\color{red}{\\mbox{'nationkey'}}{\\mapsto}{\\color{blue}{\\mbox{10}}},\\ \\color{red}{\\mbox{'nationname'}}{\\mapsto}{\\color{blue}{\\mbox{'IRAN'}}},\\ \\color{red}{\\mbox{'suppkey'}}{\\mapsto}{\\color{blue}{\\mbox{9}}}\\right\\},\\\\\n",
       "\\left\\{\\color{red}{\\mbox{'custkey'}}{\\mapsto}{\\color{blue}{\\mbox{110}}},\\ \\color{red}{\\mbox{'nationkey'}}{\\mapsto}{\\color{blue}{\\mbox{10}}},\\ \\color{red}{\\mbox{'nationname'}}{\\mapsto}{\\color{blue}{\\mbox{'IRAN'}}},\\ \\color{red}{\\mbox{'suppkey'}}{\\mapsto}{\\color{blue}{\\mbox{9}}}\\right\\},\\\\\n",
       "\\left\\{\\color{red}{\\mbox{'custkey'}}{\\mapsto}{\\color{blue}{\\mbox{131}}},\\ \\color{red}{\\mbox{'nationkey'}}{\\mapsto}{\\color{blue}{\\mbox{11}}},\\ \\color{red}{\\mbox{'nationname'}}{\\mapsto}{\\color{blue}{\\mbox{'IRAQ'}}},\\ \\color{red}{\\mbox{'suppkey'}}{\\mapsto}{\\color{blue}{\\mbox{5}}}\\right\\},\\\\\n",
       "\\text{...}(9)\\end{array}\\right\\}$$"
      ],
      "text/plain": [
       "<IPython.core.display.Math object>"
      ]
     },
     "metadata": {},
     "output_type": "display_data"
    }
   ],
   "source": [
    "import algebraixlib.algebras.clans as clans\n",
    "\n",
    "result1 = clans.functional_cross_union(\n",
    "    get_supplier_solutions(), \n",
    "    customers_nations_projected)\n",
    "iprint_latex('result1', short=True)"
   ]
  },
  {
   "cell_type": "markdown",
   "metadata": {},
   "source": [
    "The next join adds order information:\n",
    "\n",
    "``` sql\n",
    "(\n",
    "    SELECT \n",
    "        custkey, orderkey, suppkey, nationkey, nationname\n",
    "    FROM (...) AS result1\n",
    "    JOIN (...) AS orders_restricted_projected\n",
    "    ON \n",
    "        result1.custkey = orders_restricted_projected.custkey\n",
    ") AS result2\n",
    "```\n",
    "\n",
    "This looks very similar:"
   ]
  },
  {
   "cell_type": "code",
   "execution_count": 6,
   "metadata": {
    "collapsed": false
   },
   "outputs": [
    {
     "data": {
      "text/latex": [
       "$$result2 = \\left\\{\\begin{array}{l}\\left\\{\\color{red}{\\mbox{'custkey'}}{\\mapsto}{\\color{blue}{\\mbox{104}}},\\ \\color{red}{\\mbox{'nationkey'}}{\\mapsto}{\\color{blue}{\\mbox{10}}},\\ \\color{red}{\\mbox{'nationname'}}{\\mapsto}{\\color{blue}{\\mbox{'IRAN'}}},\\ \\color{red}{\\mbox{'orderkey'}}{\\mapsto}{\\color{blue}{\\mbox{3971}}},\\ \\color{red}{\\mbox{'suppkey'}}{\\mapsto}{\\color{blue}{\\mbox{9}}}\\right\\},\\\\\n",
       "\\left\\{\\color{red}{\\mbox{'custkey'}}{\\mapsto}{\\color{blue}{\\mbox{104}}},\\ \\color{red}{\\mbox{'nationkey'}}{\\mapsto}{\\color{blue}{\\mbox{10}}},\\ \\color{red}{\\mbox{'nationname'}}{\\mapsto}{\\color{blue}{\\mbox{'IRAN'}}},\\ \\color{red}{\\mbox{'orderkey'}}{\\mapsto}{\\color{blue}{\\mbox{4130}}},\\ \\color{red}{\\mbox{'suppkey'}}{\\mapsto}{\\color{blue}{\\mbox{9}}}\\right\\},\\\\\n",
       "\\left\\{\\color{red}{\\mbox{'custkey'}}{\\mapsto}{\\color{blue}{\\mbox{104}}},\\ \\color{red}{\\mbox{'nationkey'}}{\\mapsto}{\\color{blue}{\\mbox{10}}},\\ \\color{red}{\\mbox{'nationname'}}{\\mapsto}{\\color{blue}{\\mbox{'IRAN'}}},\\ \\color{red}{\\mbox{'orderkey'}}{\\mapsto}{\\color{blue}{\\mbox{423}}},\\ \\color{red}{\\mbox{'suppkey'}}{\\mapsto}{\\color{blue}{\\mbox{9}}}\\right\\},\\\\\n",
       "\\left\\{\\color{red}{\\mbox{'custkey'}}{\\mapsto}{\\color{blue}{\\mbox{104}}},\\ \\color{red}{\\mbox{'nationkey'}}{\\mapsto}{\\color{blue}{\\mbox{10}}},\\ \\color{red}{\\mbox{'nationname'}}{\\mapsto}{\\color{blue}{\\mbox{'IRAN'}}},\\ \\color{red}{\\mbox{'orderkey'}}{\\mapsto}{\\color{blue}{\\mbox{4323}}},\\ \\color{red}{\\mbox{'suppkey'}}{\\mapsto}{\\color{blue}{\\mbox{9}}}\\right\\},\\\\\n",
       "\\text{...}(73)\\end{array}\\right\\}$$"
      ],
      "text/plain": [
       "<IPython.core.display.Math object>"
      ]
     },
     "metadata": {},
     "output_type": "display_data"
    }
   ],
   "source": [
    "result2 = clans.functional_cross_union(\n",
    "    result1,\n",
    "    get_orders_restricted_projected(datetime(1994, 1, 1).date(), datetime(1997, 1, 1).date()))\n",
    "iprint_latex('result2', short=True)"
   ]
  },
  {
   "cell_type": "markdown",
   "metadata": {
    "collapsed": true
   },
   "source": [
    "In the last of the joins, we add the lineitem information. This time, instead of joining with the result of a subquery, we join directly with a imported table. Importing a table is done in the same way we we showed twice in [2-Tables][]. (Because of the size of the data involved, this operation takes a few seconds.)\n",
    "\n",
    "[2-Tables]: <2-Tables.ipynb> (IPython Notebook: TPC-H Query 5 - Tables)"
   ]
  },
  {
   "cell_type": "code",
   "execution_count": 7,
   "metadata": {
    "collapsed": false
   },
   "outputs": [
    {
     "data": {
      "text/latex": [
       "$$result3 = \\left\\{\\begin{array}{l}\\left\\{\\color{red}{\\mbox{'comment'}}{\\mapsto}{\\color{blue}{\\mbox{'en depend...}}},\\ \\color{red}{\\mbox{'commitdate'}}{\\mapsto}{\\color{blue}{\\mbox{'1995-05-22'}}},\\ \\color{red}{\\mbox{'custkey'}}{\\mapsto}{\\color{blue}{\\mbox{134}}},\\ \\color{red}{\\mbox{'discount'}}{\\mapsto}{\\color{blue}{\\mbox{0.01}}},\\ \\text{...}(15)\\right\\},\\\\\n",
       "\\left\\{\\color{red}{\\mbox{'comment'}}{\\mapsto}{\\color{blue}{\\mbox{'fily pend...}}},\\ \\color{red}{\\mbox{'commitdate'}}{\\mapsto}{\\color{blue}{\\mbox{'1996-08-11'}}},\\ \\color{red}{\\mbox{'custkey'}}{\\mapsto}{\\color{blue}{\\mbox{131}}},\\ \\color{red}{\\mbox{'discount'}}{\\mapsto}{\\color{blue}{\\mbox{0.08}}},\\ \\text{...}(15)\\right\\},\\\\\n",
       "\\left\\{\\color{red}{\\mbox{'comment'}}{\\mapsto}{\\color{blue}{\\mbox{'p furious...}}},\\ \\color{red}{\\mbox{'commitdate'}}{\\mapsto}{\\color{blue}{\\mbox{'1994-11-05'}}},\\ \\color{red}{\\mbox{'custkey'}}{\\mapsto}{\\color{blue}{\\mbox{49}}},\\ \\color{red}{\\mbox{'discount'}}{\\mapsto}{\\color{blue}{\\mbox{0.07}}},\\ \\text{...}(15)\\right\\},\\\\\n",
       "\\left\\{\\color{red}{\\mbox{'comment'}}{\\mapsto}{\\color{blue}{\\mbox{'ve. asymp...}}},\\ \\color{red}{\\mbox{'commitdate'}}{\\mapsto}{\\color{blue}{\\mbox{'1995-05-25'}}},\\ \\color{red}{\\mbox{'custkey'}}{\\mapsto}{\\color{blue}{\\mbox{49}}},\\ \\color{red}{\\mbox{'discount'}}{\\mapsto}{\\color{blue}{\\mbox{0.05}}},\\ \\text{...}(15)\\right\\},\\\\\n",
       "\\left\\{\\color{red}{\\mbox{'comment'}}{\\mapsto}{\\color{blue}{\\mbox{'y unusual...}}},\\ \\color{red}{\\mbox{'commitdate'}}{\\mapsto}{\\color{blue}{\\mbox{'1996-09-20'}}},\\ \\color{red}{\\mbox{'custkey'}}{\\mapsto}{\\color{blue}{\\mbox{52}}},\\ \\color{red}{\\mbox{'discount'}}{\\mapsto}{\\color{blue}{\\mbox{0.07}}},\\ \\text{...}(15)\\right\\}\\end{array}\\right\\}$$"
      ],
      "text/plain": [
       "<IPython.core.display.Math object>"
      ]
     },
     "metadata": {},
     "output_type": "display_data"
    }
   ],
   "source": [
    "lineitem_types = {\n",
    "    'orderkey': int, 'suppkey': int, 'extendedprice': float, 'discount': float,\n",
    "    'partkey': int, 'linenumber': int, 'quantity': int, 'tax': float,\n",
    "}\n",
    "result3 = clans.functional_cross_union(result2, csv.import_csv('lineitem.csv', lineitem_types))\n",
    "iprint_latex('result3', short=True)"
   ]
  },
  {
   "cell_type": "markdown",
   "metadata": {
    "collapsed": true
   },
   "source": [
    "# Creating the Final Columns\n",
    "\n",
    "Part of the final data is a `revenue` column that is calculated from `extendedprice` and `discount`. We create this column here with an operation that reflects a typical set builder notation:\n",
    "\n",
    "$$\n",
    "Result4 = \\{rel \\underset{f}{\\cup} \\{revenue{\\mapsto}(rel(extendedprice) * (1 - rel(discount)))\\}\\ :\\ rel \\in Result3\\}\n",
    "$$\n",
    "\n",
    "The operation $\\underset{f}{\\cup}$ is a union that is only defined if it maintains the functional character of the relation it operates on. This makes sure that we don't accidentally add a couplet with a left that already exists in the relation and change the character of the relation.\n",
    "\n",
    "- `calc_revenue()` expects a relation as argument that contains couplets with the lefts `extendedprice` and `discount`. From these it calculates the revenue and returns a couplet with the left part `revenue` and the right part set to the calculated value.\n",
    "- [`Set`][] accepts a generator as argument; this feature is used here to create a set builder. \n",
    "- [`relations.functional_add`][] implements the operation $\\underset{f}{\\cup}$ and adds a couplet to a relation if the couplet's left doesn't yet exist as left in the relation.\n",
    "\n",
    "In the printed output, the `revenue` column is not visible, but you can see that the number of hidden columns (15 in the result above) has now increased to 16."
   ]
  },
  {
   "cell_type": "code",
   "execution_count": 8,
   "metadata": {
    "collapsed": false
   },
   "outputs": [
    {
     "data": {
      "text/latex": [
       "$$result4 = \\left\\{\\begin{array}{l}\\left\\{\\color{red}{\\mbox{'comment'}}{\\mapsto}{\\color{blue}{\\mbox{'en depend...}}},\\ \\color{red}{\\mbox{'commitdate'}}{\\mapsto}{\\color{blue}{\\mbox{'1995-05-22'}}},\\ \\color{red}{\\mbox{'custkey'}}{\\mapsto}{\\color{blue}{\\mbox{134}}},\\ \\color{red}{\\mbox{'discount'}}{\\mapsto}{\\color{blue}{\\mbox{0.01}}},\\ \\text{...}(16)\\right\\},\\\\\n",
       "\\left\\{\\color{red}{\\mbox{'comment'}}{\\mapsto}{\\color{blue}{\\mbox{'fily pend...}}},\\ \\color{red}{\\mbox{'commitdate'}}{\\mapsto}{\\color{blue}{\\mbox{'1996-08-11'}}},\\ \\color{red}{\\mbox{'custkey'}}{\\mapsto}{\\color{blue}{\\mbox{131}}},\\ \\color{red}{\\mbox{'discount'}}{\\mapsto}{\\color{blue}{\\mbox{0.08}}},\\ \\text{...}(16)\\right\\},\\\\\n",
       "\\left\\{\\color{red}{\\mbox{'comment'}}{\\mapsto}{\\color{blue}{\\mbox{'p furious...}}},\\ \\color{red}{\\mbox{'commitdate'}}{\\mapsto}{\\color{blue}{\\mbox{'1994-11-05'}}},\\ \\color{red}{\\mbox{'custkey'}}{\\mapsto}{\\color{blue}{\\mbox{49}}},\\ \\color{red}{\\mbox{'discount'}}{\\mapsto}{\\color{blue}{\\mbox{0.07}}},\\ \\text{...}(16)\\right\\},\\\\\n",
       "\\left\\{\\color{red}{\\mbox{'comment'}}{\\mapsto}{\\color{blue}{\\mbox{'ve. asymp...}}},\\ \\color{red}{\\mbox{'commitdate'}}{\\mapsto}{\\color{blue}{\\mbox{'1995-05-25'}}},\\ \\color{red}{\\mbox{'custkey'}}{\\mapsto}{\\color{blue}{\\mbox{49}}},\\ \\color{red}{\\mbox{'discount'}}{\\mapsto}{\\color{blue}{\\mbox{0.05}}},\\ \\text{...}(16)\\right\\},\\\\\n",
       "\\left\\{\\color{red}{\\mbox{'comment'}}{\\mapsto}{\\color{blue}{\\mbox{'y unusual...}}},\\ \\color{red}{\\mbox{'commitdate'}}{\\mapsto}{\\color{blue}{\\mbox{'1996-09-20'}}},\\ \\color{red}{\\mbox{'custkey'}}{\\mapsto}{\\color{blue}{\\mbox{52}}},\\ \\color{red}{\\mbox{'discount'}}{\\mapsto}{\\color{blue}{\\mbox{0.07}}},\\ \\text{...}(16)\\right\\}\\end{array}\\right\\}$$"
      ],
      "text/plain": [
       "<IPython.core.display.Math object>"
      ]
     },
     "metadata": {},
     "output_type": "display_data"
    }
   ],
   "source": [
    "import algebraixlib.algebras.relations as relations\n",
    "from algebraixlib.mathobjects import Couplet, Set\n",
    "\n",
    "def calc_revenue(rel):\n",
    "    return Couplet('revenue', rel('extendedprice').value * (1 - rel('discount').value))\n",
    "\n",
    "result4 = Set(relations.functional_add(rel, calc_revenue(rel)) for rel in result3)\n",
    "iprint_latex('result4', short=True)"
   ]
  },
  {
   "cell_type": "markdown",
   "metadata": {},
   "source": [
    "Finally we remove the unnecessary columns, projecting only the desired columns `revenue` and `nationname`. (You see the typical rounding problems in the output that appear when working with floating-point types and exact values. We'll ignore this in this example; it is not relevant to the data algebra.)"
   ]
  },
  {
   "cell_type": "code",
   "execution_count": 9,
   "metadata": {
    "collapsed": false
   },
   "outputs": [
    {
     "data": {
      "text/latex": [
       "$$revenue\\_by\\_nations = \\left\\{\\begin{array}{l}\\left\\{\\color{red}{\\mbox{'nationname'}}{\\mapsto}{\\color{blue}{\\mbox{'IRAN'}}},\\ \\color{red}{\\mbox{'revenue'}}{\\mapsto}{\\color{blue}{\\mbox{36367.9}}}\\right\\},\\\\\n",
       "\\left\\{\\color{red}{\\mbox{'nationname'}}{\\mapsto}{\\color{blue}{\\mbox{'IRAN'}}},\\ \\color{red}{\\mbox{'revenue'}}{\\mapsto}{\\color{blue}{\\mbox{5256.583199999999}}}\\right\\},\\\\\n",
       "\\left\\{\\color{red}{\\mbox{'nationname'}}{\\mapsto}{\\color{blue}{\\mbox{'IRAQ'}}},\\ \\color{red}{\\mbox{'revenue'}}{\\mapsto}{\\color{blue}{\\mbox{17043.161399999997}}}\\right\\},\\\\\n",
       "\\left\\{\\color{red}{\\mbox{'nationname'}}{\\mapsto}{\\color{blue}{\\mbox{'IRAQ'}}},\\ \\color{red}{\\mbox{'revenue'}}{\\mapsto}{\\color{blue}{\\mbox{19960.38}}}\\right\\},\\\\\n",
       "\\left\\{\\color{red}{\\mbox{'nationname'}}{\\mapsto}{\\color{blue}{\\mbox{'IRAQ'}}},\\ \\color{red}{\\mbox{'revenue'}}{\\mapsto}{\\color{blue}{\\mbox{21457.6384}}}\\right\\}\\end{array}\\right\\}$$"
      ],
      "text/plain": [
       "<IPython.core.display.Math object>"
      ]
     },
     "metadata": {},
     "output_type": "display_data"
    }
   ],
   "source": [
    "revenue_by_nations = clans.project(result4, 'revenue', 'nationname')\n",
    "iprint_latex('revenue_by_nations')"
   ]
  },
  {
   "cell_type": "markdown",
   "metadata": {},
   "source": [
    "# Grouping and Aggregation\n",
    "\n",
    "The final step of our query is the aggregation; we want to group the results by `nationname` and aggregate the `revenue` (as sum). \n",
    "\n",
    "As first step we partition `result5` by the column `nationname`. \n",
    "\n",
    "- [`algebraixlib.partition`][] contains our partition operations.\n",
    "- [`partition.partition`][] partitions a clan. Its second argument is a function that returns same values for relations that should be considered part of the same equivalence class. Since we want to partition on the column `nationname`, we simply return its value."
   ]
  },
  {
   "cell_type": "code",
   "execution_count": 10,
   "metadata": {
    "collapsed": false
   },
   "outputs": [
    {
     "data": {
      "text/latex": [
       "$$revenue\\_grouped\\_by\\_nations = \\left\\{\\begin{array}{l}\\left\\{\\begin{array}{l}\\left\\{\\color{red}{\\mbox{'nationname'}}{\\mapsto}{\\color{blue}{\\mbox{'IRAN'}}},\\ \\color{red}{\\mbox{'revenue'}}{\\mapsto}{\\color{blue}{\\mbox{36367.9}}}\\right\\},\\\\\n",
       "\\left\\{\\color{red}{\\mbox{'nationname'}}{\\mapsto}{\\color{blue}{\\mbox{'IRAN'}}},\\ \\color{red}{\\mbox{'revenue'}}{\\mapsto}{\\color{blue}{\\mbox{5256.583199999999}}}\\right\\}\\end{array}\\right\\},\\\\\n",
       "\\left\\{\\begin{array}{l}\\left\\{\\color{red}{\\mbox{'nationname'}}{\\mapsto}{\\color{blue}{\\mbox{'IRAQ'}}},\\ \\color{red}{\\mbox{'revenue'}}{\\mapsto}{\\color{blue}{\\mbox{17043.161399999997}}}\\right\\},\\\\\n",
       "\\left\\{\\color{red}{\\mbox{'nationname'}}{\\mapsto}{\\color{blue}{\\mbox{'IRAQ'}}},\\ \\color{red}{\\mbox{'revenue'}}{\\mapsto}{\\color{blue}{\\mbox{19960.38}}}\\right\\},\\\\\n",
       "\\left\\{\\color{red}{\\mbox{'nationname'}}{\\mapsto}{\\color{blue}{\\mbox{'IRAQ'}}},\\ \\color{red}{\\mbox{'revenue'}}{\\mapsto}{\\color{blue}{\\mbox{21457.6384}}}\\right\\}\\end{array}\\right\\}\\end{array}\\right\\}$$"
      ],
      "text/plain": [
       "<IPython.core.display.Math object>"
      ]
     },
     "metadata": {},
     "output_type": "display_data"
    }
   ],
   "source": [
    "import algebraixlib.partition as partition\n",
    "\n",
    "revenue_grouped_by_nations = partition.partition(revenue_by_nations, lambda rel: rel('nationname'))\n",
    "iprint_latex('revenue_grouped_by_nations')"
   ]
  },
  {
   "cell_type": "markdown",
   "metadata": {},
   "source": [
    "Eventually, generic aggregation will be part of our library. It isn't yet, so all we have for now is this code here. \n",
    "\n",
    "- `aggregate()` aggregates on a 'horde' (a set of clans) that is the result of a partition operation on a clan and returns an 'aggregated' clan with the results of the aggregation. Its arguments are:\n",
    "\n",
    "    - `group_left`: The left part of the couplets on which the partition is grouped (and on which the aggregation will also group). In our case that is `nationname`.\n",
    "    - `aggregation_left`: The left part of the couplets that we want to aggregate. In our case that is `revenue`.\n",
    "    - `aggregate_func`: A callable (Python function or similar) that has a member `.identity` (the identity element of the operation, 0 in our case) and accepts two arguments, on which it executes the aggregation operation (addition in our case).\n",
    "    \n",
    "- `aggregate_sum()` is the aggregation function that is used as `aggregate_func` argument to `aggregate()`."
   ]
  },
  {
   "cell_type": "code",
   "execution_count": 11,
   "metadata": {
    "collapsed": true
   },
   "outputs": [],
   "source": [
    "def aggregate(horde, group_left, aggregation_left, aggregate_func):\n",
    "    aggregation = {}\n",
    "    for clan in horde:\n",
    "        aggregation_value = aggregate_func.identity\n",
    "        for relation in clan:\n",
    "            aggregation_value = aggregate_func(aggregation_value,\n",
    "                relation(aggregation_left).value)\n",
    "        first_relation = next(iter(clan))\n",
    "        aggregation[first_relation(group_left)] = aggregation_value\n",
    "    return Set([Set(Couplet(group_left, key), Couplet(aggregation_left, aggregation[key]))\n",
    "        for key in aggregation])\n",
    "\n",
    "def aggregate_sum(arg1, arg2):\n",
    "    return arg1 + arg2\n",
    "aggregate_sum.identity = 0"
   ]
  },
  {
   "cell_type": "markdown",
   "metadata": {},
   "source": [
    "Using the ad-hoc aggregation code from above, we can calculate the final result:"
   ]
  },
  {
   "cell_type": "code",
   "execution_count": 12,
   "metadata": {
    "collapsed": false
   },
   "outputs": [
    {
     "data": {
      "text/latex": [
       "$$revenue\\_aggregate = \\left\\{\\begin{array}{l}\\left\\{\\color{red}{\\mbox{'nationname'}}{\\mapsto}{\\color{blue}{\\mbox{'IRAN'}}},\\ \\color{red}{\\mbox{'revenue'}}{\\mapsto}{\\color{blue}{\\mbox{41624.4832}}}\\right\\},\\\\\n",
       "\\left\\{\\color{red}{\\mbox{'nationname'}}{\\mapsto}{\\color{blue}{\\mbox{'IRAQ'}}},\\ \\color{red}{\\mbox{'revenue'}}{\\mapsto}{\\color{blue}{\\mbox{58461.1798}}}\\right\\}\\end{array}\\right\\}$$"
      ],
      "text/plain": [
       "<IPython.core.display.Math object>"
      ]
     },
     "metadata": {},
     "output_type": "display_data"
    }
   ],
   "source": [
    "revenue_aggregate = aggregate(revenue_grouped_by_nations, 'nationname', 'revenue', aggregate_sum)\n",
    "iprint_latex('revenue_aggregate')"
   ]
  },
  {
   "cell_type": "markdown",
   "metadata": {},
   "source": [
    "# Final Considerations\n",
    "\n",
    "With this example, we show how data from diverse sources and presented in different structures can be homogeneously represented and processed by data algebra. The unique advantage of doing so is that once the data is accessible to operations that follow the principles of data algebra, the form and sequence in which these operations are executed can be altered according to precisely defined mathematical rules, without changing the result. "
   ]
  },
  {
   "cell_type": "markdown",
   "metadata": {
    "collapsed": true
   },
   "source": [
    "----\n",
    "&copy; Copyright 2015 Algebraix Data Corporation\n",
    "\n",
    "This file is part of [`algebraixlib`][] .\n",
    "\n",
    "[`algebraixlib`][] is free software: you can redistribute it and/or modify it under the terms of [version 3 of the GNU Lesser General Public License][] as published by the [Free Software Foundation][].\n",
    "\n",
    "[`algebraixlib`][] is distributed in the hope that it will be useful, but WITHOUT ANY WARRANTY; without even the implied warranty of MERCHANTABILITY or FITNESS FOR A PARTICULAR PURPOSE. See the GNU Lesser General Public License for more details.\n",
    "\n",
    "You should have received a copy of the GNU Lesser General Public License along with [`algebraixlib`][]. If not, see [GNU licenses][].\n",
    "\n",
    "[`algebraixlib`]: <http://github.com/AlgebraixData/algebraixlib> (A Python library for data algebra)\n",
    "[Version 3 of the GNU Lesser General Public License]: <http://www.gnu.org/licenses/lgpl-3.0-standalone.html> \n",
    "[Free Software Foundation]: <http://www.fsf.org/>\n",
    "[GNU licenses]: <http://www.gnu.org/licenses/>"
   ]
  }
 ],
 "metadata": {
  "kernelspec": {
   "display_name": "Python 3",
   "language": "python",
   "name": "python3"
  },
  "language_info": {
   "codemirror_mode": {
    "name": "ipython",
    "version": 3
   },
   "file_extension": ".py",
   "mimetype": "text/x-python",
   "name": "python",
   "nbconvert_exporter": "python",
   "pygments_lexer": "ipython3",
   "version": "3.4.3"
  }
 },
 "nbformat": 4,
 "nbformat_minor": 0
}
